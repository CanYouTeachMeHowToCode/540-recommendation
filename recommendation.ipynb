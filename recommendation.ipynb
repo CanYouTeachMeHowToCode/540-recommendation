{
 "cells": [
  {
   "cell_type": "code",
   "execution_count": 10,
   "metadata": {
    "collapsed": true
   },
   "outputs": [],
   "source": [
    "import pandas as pd\n",
    "\n",
    "# read reviews.parquet file\n",
    "reviews_df = pd.read_parquet('data/reviews.parquet')\n",
    "\n",
    "# read recipes.parquet file\n",
    "recipes_df = pd.read_parquet('data/recipes.parquet')"
   ]
  },
  {
   "cell_type": "code",
   "execution_count": 11,
   "outputs": [
    {
     "data": {
      "text/plain": "   ReviewId  RecipeId  AuthorId        AuthorName  Rating  \\\n0         2       992      2008         gayg msft       5   \n1         7      4384      1634     Bill Hilbrich       4   \n2         9      4523      2046  Gay Gilmore ckpt       2   \n3        13      7435      1773     Malarkey Test       5   \n4        14        44      2085        Tony Small       5   \n\n                                              Review       DateSubmitted  \\\n0       better than any you can get at a restaurant! 2000-01-25 21:44:00   \n1  I cut back on the mayo, and made up the differ... 2001-10-17 16:49:59   \n2  i think i did something wrong because i could ... 2000-02-25 09:00:00   \n3  easily the best i have ever had.  juicy flavor... 2000-03-13 21:15:00   \n4                                 An excellent dish. 2000-03-28 12:51:00   \n\n         DateModified  \n0 2000-01-25 21:44:00  \n1 2001-10-17 16:49:59  \n2 2000-02-25 09:00:00  \n3 2000-03-13 21:15:00  \n4 2000-03-28 12:51:00  ",
      "text/html": "<div>\n<style scoped>\n    .dataframe tbody tr th:only-of-type {\n        vertical-align: middle;\n    }\n\n    .dataframe tbody tr th {\n        vertical-align: top;\n    }\n\n    .dataframe thead th {\n        text-align: right;\n    }\n</style>\n<table border=\"1\" class=\"dataframe\">\n  <thead>\n    <tr style=\"text-align: right;\">\n      <th></th>\n      <th>ReviewId</th>\n      <th>RecipeId</th>\n      <th>AuthorId</th>\n      <th>AuthorName</th>\n      <th>Rating</th>\n      <th>Review</th>\n      <th>DateSubmitted</th>\n      <th>DateModified</th>\n    </tr>\n  </thead>\n  <tbody>\n    <tr>\n      <th>0</th>\n      <td>2</td>\n      <td>992</td>\n      <td>2008</td>\n      <td>gayg msft</td>\n      <td>5</td>\n      <td>better than any you can get at a restaurant!</td>\n      <td>2000-01-25 21:44:00</td>\n      <td>2000-01-25 21:44:00</td>\n    </tr>\n    <tr>\n      <th>1</th>\n      <td>7</td>\n      <td>4384</td>\n      <td>1634</td>\n      <td>Bill Hilbrich</td>\n      <td>4</td>\n      <td>I cut back on the mayo, and made up the differ...</td>\n      <td>2001-10-17 16:49:59</td>\n      <td>2001-10-17 16:49:59</td>\n    </tr>\n    <tr>\n      <th>2</th>\n      <td>9</td>\n      <td>4523</td>\n      <td>2046</td>\n      <td>Gay Gilmore ckpt</td>\n      <td>2</td>\n      <td>i think i did something wrong because i could ...</td>\n      <td>2000-02-25 09:00:00</td>\n      <td>2000-02-25 09:00:00</td>\n    </tr>\n    <tr>\n      <th>3</th>\n      <td>13</td>\n      <td>7435</td>\n      <td>1773</td>\n      <td>Malarkey Test</td>\n      <td>5</td>\n      <td>easily the best i have ever had.  juicy flavor...</td>\n      <td>2000-03-13 21:15:00</td>\n      <td>2000-03-13 21:15:00</td>\n    </tr>\n    <tr>\n      <th>4</th>\n      <td>14</td>\n      <td>44</td>\n      <td>2085</td>\n      <td>Tony Small</td>\n      <td>5</td>\n      <td>An excellent dish.</td>\n      <td>2000-03-28 12:51:00</td>\n      <td>2000-03-28 12:51:00</td>\n    </tr>\n  </tbody>\n</table>\n</div>"
     },
     "execution_count": 11,
     "metadata": {},
     "output_type": "execute_result"
    }
   ],
   "source": [
    "# print the first 5 rows of reviews_df\n",
    "reviews_df.head()\n"
   ],
   "metadata": {
    "collapsed": false
   }
  },
  {
   "cell_type": "code",
   "execution_count": 12,
   "outputs": [
    {
     "data": {
      "text/plain": "   RecipeId                               Name  AuthorId      AuthorName  \\\n0      38.0  Low-Fat Berry Blue Frozen Dessert      1533          Dancer   \n1      39.0                            Biryani      1567        elly9812   \n2      40.0                      Best Lemonade      1566  Stephen Little   \n3      41.0     Carina's Tofu-Vegetable Kebabs      1586         Cyclopz   \n4      42.0                       Cabbage Soup      1538       Duckie067   \n\n  CookTime PrepTime TotalTime       DatePublished  \\\n0    PT24H    PT45M  PT24H45M 1999-08-09 21:46:00   \n1    PT25M     PT4H   PT4H25M 1999-08-29 13:12:00   \n2     PT5M    PT30M     PT35M 1999-09-05 19:52:00   \n3    PT20M    PT24H  PT24H20M 1999-09-03 14:54:00   \n4    PT30M    PT20M     PT50M 1999-09-19 06:19:00   \n\n                                         Description  \\\n0  Make and share this Low-Fat Berry Blue Frozen ...   \n1  Make and share this Biryani recipe from Food.com.   \n2  This is from one of my  first Good House Keepi...   \n3  This dish is best prepared a day in advance to...   \n4  Make and share this Cabbage Soup recipe from F...   \n\n                                              Images  ... SaturatedFatContent  \\\n0  [https://img.sndimg.com/food/image/upload/w_55...  ...                 1.3   \n1  [https://img.sndimg.com/food/image/upload/w_55...  ...                16.6   \n2  [https://img.sndimg.com/food/image/upload/w_55...  ...                 0.0   \n3  [https://img.sndimg.com/food/image/upload/w_55...  ...                 3.8   \n4  [https://img.sndimg.com/food/image/upload/w_55...  ...                 0.1   \n\n  CholesterolContent SodiumContent CarbohydrateContent  FiberContent  \\\n0                8.0          29.8                37.1           3.6   \n1              372.8         368.4                84.4           9.0   \n2                0.0           1.8                81.5           0.4   \n3                0.0        1558.6                64.2          17.3   \n4                0.0         959.3                25.1           4.8   \n\n   SugarContent  ProteinContent  RecipeServings  RecipeYield  \\\n0          30.2             3.2             4.0         None   \n1          20.4            63.4             6.0         None   \n2          77.2             0.3             4.0         None   \n3          32.1            29.3             2.0     4 kebabs   \n4          17.7             4.3             4.0         None   \n\n                                  RecipeInstructions  \n0  [Toss 2 cups berries with sugar., Let stand fo...  \n1  [Soak saffron in warm milk for 5 minutes and p...  \n2  [Into a 1 quart Jar with tight fitting lid, pu...  \n3  [Drain the tofu, carefully squeezing out exces...  \n4  [Mix everything together and bring to a boil.,...  \n\n[5 rows x 28 columns]",
      "text/html": "<div>\n<style scoped>\n    .dataframe tbody tr th:only-of-type {\n        vertical-align: middle;\n    }\n\n    .dataframe tbody tr th {\n        vertical-align: top;\n    }\n\n    .dataframe thead th {\n        text-align: right;\n    }\n</style>\n<table border=\"1\" class=\"dataframe\">\n  <thead>\n    <tr style=\"text-align: right;\">\n      <th></th>\n      <th>RecipeId</th>\n      <th>Name</th>\n      <th>AuthorId</th>\n      <th>AuthorName</th>\n      <th>CookTime</th>\n      <th>PrepTime</th>\n      <th>TotalTime</th>\n      <th>DatePublished</th>\n      <th>Description</th>\n      <th>Images</th>\n      <th>...</th>\n      <th>SaturatedFatContent</th>\n      <th>CholesterolContent</th>\n      <th>SodiumContent</th>\n      <th>CarbohydrateContent</th>\n      <th>FiberContent</th>\n      <th>SugarContent</th>\n      <th>ProteinContent</th>\n      <th>RecipeServings</th>\n      <th>RecipeYield</th>\n      <th>RecipeInstructions</th>\n    </tr>\n  </thead>\n  <tbody>\n    <tr>\n      <th>0</th>\n      <td>38.0</td>\n      <td>Low-Fat Berry Blue Frozen Dessert</td>\n      <td>1533</td>\n      <td>Dancer</td>\n      <td>PT24H</td>\n      <td>PT45M</td>\n      <td>PT24H45M</td>\n      <td>1999-08-09 21:46:00</td>\n      <td>Make and share this Low-Fat Berry Blue Frozen ...</td>\n      <td>[https://img.sndimg.com/food/image/upload/w_55...</td>\n      <td>...</td>\n      <td>1.3</td>\n      <td>8.0</td>\n      <td>29.8</td>\n      <td>37.1</td>\n      <td>3.6</td>\n      <td>30.2</td>\n      <td>3.2</td>\n      <td>4.0</td>\n      <td>None</td>\n      <td>[Toss 2 cups berries with sugar., Let stand fo...</td>\n    </tr>\n    <tr>\n      <th>1</th>\n      <td>39.0</td>\n      <td>Biryani</td>\n      <td>1567</td>\n      <td>elly9812</td>\n      <td>PT25M</td>\n      <td>PT4H</td>\n      <td>PT4H25M</td>\n      <td>1999-08-29 13:12:00</td>\n      <td>Make and share this Biryani recipe from Food.com.</td>\n      <td>[https://img.sndimg.com/food/image/upload/w_55...</td>\n      <td>...</td>\n      <td>16.6</td>\n      <td>372.8</td>\n      <td>368.4</td>\n      <td>84.4</td>\n      <td>9.0</td>\n      <td>20.4</td>\n      <td>63.4</td>\n      <td>6.0</td>\n      <td>None</td>\n      <td>[Soak saffron in warm milk for 5 minutes and p...</td>\n    </tr>\n    <tr>\n      <th>2</th>\n      <td>40.0</td>\n      <td>Best Lemonade</td>\n      <td>1566</td>\n      <td>Stephen Little</td>\n      <td>PT5M</td>\n      <td>PT30M</td>\n      <td>PT35M</td>\n      <td>1999-09-05 19:52:00</td>\n      <td>This is from one of my  first Good House Keepi...</td>\n      <td>[https://img.sndimg.com/food/image/upload/w_55...</td>\n      <td>...</td>\n      <td>0.0</td>\n      <td>0.0</td>\n      <td>1.8</td>\n      <td>81.5</td>\n      <td>0.4</td>\n      <td>77.2</td>\n      <td>0.3</td>\n      <td>4.0</td>\n      <td>None</td>\n      <td>[Into a 1 quart Jar with tight fitting lid, pu...</td>\n    </tr>\n    <tr>\n      <th>3</th>\n      <td>41.0</td>\n      <td>Carina's Tofu-Vegetable Kebabs</td>\n      <td>1586</td>\n      <td>Cyclopz</td>\n      <td>PT20M</td>\n      <td>PT24H</td>\n      <td>PT24H20M</td>\n      <td>1999-09-03 14:54:00</td>\n      <td>This dish is best prepared a day in advance to...</td>\n      <td>[https://img.sndimg.com/food/image/upload/w_55...</td>\n      <td>...</td>\n      <td>3.8</td>\n      <td>0.0</td>\n      <td>1558.6</td>\n      <td>64.2</td>\n      <td>17.3</td>\n      <td>32.1</td>\n      <td>29.3</td>\n      <td>2.0</td>\n      <td>4 kebabs</td>\n      <td>[Drain the tofu, carefully squeezing out exces...</td>\n    </tr>\n    <tr>\n      <th>4</th>\n      <td>42.0</td>\n      <td>Cabbage Soup</td>\n      <td>1538</td>\n      <td>Duckie067</td>\n      <td>PT30M</td>\n      <td>PT20M</td>\n      <td>PT50M</td>\n      <td>1999-09-19 06:19:00</td>\n      <td>Make and share this Cabbage Soup recipe from F...</td>\n      <td>[https://img.sndimg.com/food/image/upload/w_55...</td>\n      <td>...</td>\n      <td>0.1</td>\n      <td>0.0</td>\n      <td>959.3</td>\n      <td>25.1</td>\n      <td>4.8</td>\n      <td>17.7</td>\n      <td>4.3</td>\n      <td>4.0</td>\n      <td>None</td>\n      <td>[Mix everything together and bring to a boil.,...</td>\n    </tr>\n  </tbody>\n</table>\n<p>5 rows × 28 columns</p>\n</div>"
     },
     "execution_count": 12,
     "metadata": {},
     "output_type": "execute_result"
    }
   ],
   "source": [
    "recipes_df.head()\n"
   ],
   "metadata": {
    "collapsed": false
   }
  },
  {
   "cell_type": "code",
   "execution_count": 13,
   "outputs": [
    {
     "data": {
      "text/plain": "   ReviewId  RecipeId  AuthorId_x       AuthorName_x  Rating  \\\n0         2       992        2008          gayg msft       5   \n1       250       992        4242            marie m       5   \n2    242612       992      205100         mommyoftwo       5   \n3    463486       992      559815  karen.nash-horton       4   \n4    643932       992      743849             NELady       5   \n\n                                              Review       DateSubmitted  \\\n0       better than any you can get at a restaurant! 2000-01-25 21:44:00   \n1  my family loved these.  fresher than any bough... 2001-01-02 16:19:29   \n2  Wow!  Awesome - Awesome - Awesome!  And I don'... 2006-01-27 06:09:46   \n3  This is a good recipe. I much prefer the oven ... 2007-08-15 11:04:13   \n4  GREAT recipe!  I used fat free cream cheese, p... 2008-06-02 18:24:08   \n\n         DateModified                     Name  AuthorId_y  ...  \\\n0 2000-01-25 21:44:00  Jalapeno Pepper Poppers        1545  ...   \n1 2001-01-02 16:19:29  Jalapeno Pepper Poppers        1545  ...   \n2 2006-01-27 06:09:46  Jalapeno Pepper Poppers        1545  ...   \n3 2007-08-15 11:04:13  Jalapeno Pepper Poppers        1545  ...   \n4 2008-06-02 18:24:08  Jalapeno Pepper Poppers        1545  ...   \n\n  SaturatedFatContent CholesterolContent SodiumContent CarbohydrateContent  \\\n0                 4.9               23.7         172.5                 3.2   \n1                 4.9               23.7         172.5                 3.2   \n2                 4.9               23.7         172.5                 3.2   \n3                 4.9               23.7         172.5                 3.2   \n4                 4.9               23.7         172.5                 3.2   \n\n  FiberContent SugarContent ProteinContent RecipeServings RecipeYield  \\\n0          0.6          0.9            4.3           24.0        None   \n1          0.6          0.9            4.3           24.0        None   \n2          0.6          0.9            4.3           24.0        None   \n3          0.6          0.9            4.3           24.0        None   \n4          0.6          0.9            4.3           24.0        None   \n\n                                  RecipeInstructions  \n0  [In a mixing bowl, combine cheeses, bacon and ...  \n1  [In a mixing bowl, combine cheeses, bacon and ...  \n2  [In a mixing bowl, combine cheeses, bacon and ...  \n3  [In a mixing bowl, combine cheeses, bacon and ...  \n4  [In a mixing bowl, combine cheeses, bacon and ...  \n\n[5 rows x 35 columns]",
      "text/html": "<div>\n<style scoped>\n    .dataframe tbody tr th:only-of-type {\n        vertical-align: middle;\n    }\n\n    .dataframe tbody tr th {\n        vertical-align: top;\n    }\n\n    .dataframe thead th {\n        text-align: right;\n    }\n</style>\n<table border=\"1\" class=\"dataframe\">\n  <thead>\n    <tr style=\"text-align: right;\">\n      <th></th>\n      <th>ReviewId</th>\n      <th>RecipeId</th>\n      <th>AuthorId_x</th>\n      <th>AuthorName_x</th>\n      <th>Rating</th>\n      <th>Review</th>\n      <th>DateSubmitted</th>\n      <th>DateModified</th>\n      <th>Name</th>\n      <th>AuthorId_y</th>\n      <th>...</th>\n      <th>SaturatedFatContent</th>\n      <th>CholesterolContent</th>\n      <th>SodiumContent</th>\n      <th>CarbohydrateContent</th>\n      <th>FiberContent</th>\n      <th>SugarContent</th>\n      <th>ProteinContent</th>\n      <th>RecipeServings</th>\n      <th>RecipeYield</th>\n      <th>RecipeInstructions</th>\n    </tr>\n  </thead>\n  <tbody>\n    <tr>\n      <th>0</th>\n      <td>2</td>\n      <td>992</td>\n      <td>2008</td>\n      <td>gayg msft</td>\n      <td>5</td>\n      <td>better than any you can get at a restaurant!</td>\n      <td>2000-01-25 21:44:00</td>\n      <td>2000-01-25 21:44:00</td>\n      <td>Jalapeno Pepper Poppers</td>\n      <td>1545</td>\n      <td>...</td>\n      <td>4.9</td>\n      <td>23.7</td>\n      <td>172.5</td>\n      <td>3.2</td>\n      <td>0.6</td>\n      <td>0.9</td>\n      <td>4.3</td>\n      <td>24.0</td>\n      <td>None</td>\n      <td>[In a mixing bowl, combine cheeses, bacon and ...</td>\n    </tr>\n    <tr>\n      <th>1</th>\n      <td>250</td>\n      <td>992</td>\n      <td>4242</td>\n      <td>marie m</td>\n      <td>5</td>\n      <td>my family loved these.  fresher than any bough...</td>\n      <td>2001-01-02 16:19:29</td>\n      <td>2001-01-02 16:19:29</td>\n      <td>Jalapeno Pepper Poppers</td>\n      <td>1545</td>\n      <td>...</td>\n      <td>4.9</td>\n      <td>23.7</td>\n      <td>172.5</td>\n      <td>3.2</td>\n      <td>0.6</td>\n      <td>0.9</td>\n      <td>4.3</td>\n      <td>24.0</td>\n      <td>None</td>\n      <td>[In a mixing bowl, combine cheeses, bacon and ...</td>\n    </tr>\n    <tr>\n      <th>2</th>\n      <td>242612</td>\n      <td>992</td>\n      <td>205100</td>\n      <td>mommyoftwo</td>\n      <td>5</td>\n      <td>Wow!  Awesome - Awesome - Awesome!  And I don'...</td>\n      <td>2006-01-27 06:09:46</td>\n      <td>2006-01-27 06:09:46</td>\n      <td>Jalapeno Pepper Poppers</td>\n      <td>1545</td>\n      <td>...</td>\n      <td>4.9</td>\n      <td>23.7</td>\n      <td>172.5</td>\n      <td>3.2</td>\n      <td>0.6</td>\n      <td>0.9</td>\n      <td>4.3</td>\n      <td>24.0</td>\n      <td>None</td>\n      <td>[In a mixing bowl, combine cheeses, bacon and ...</td>\n    </tr>\n    <tr>\n      <th>3</th>\n      <td>463486</td>\n      <td>992</td>\n      <td>559815</td>\n      <td>karen.nash-horton</td>\n      <td>4</td>\n      <td>This is a good recipe. I much prefer the oven ...</td>\n      <td>2007-08-15 11:04:13</td>\n      <td>2007-08-15 11:04:13</td>\n      <td>Jalapeno Pepper Poppers</td>\n      <td>1545</td>\n      <td>...</td>\n      <td>4.9</td>\n      <td>23.7</td>\n      <td>172.5</td>\n      <td>3.2</td>\n      <td>0.6</td>\n      <td>0.9</td>\n      <td>4.3</td>\n      <td>24.0</td>\n      <td>None</td>\n      <td>[In a mixing bowl, combine cheeses, bacon and ...</td>\n    </tr>\n    <tr>\n      <th>4</th>\n      <td>643932</td>\n      <td>992</td>\n      <td>743849</td>\n      <td>NELady</td>\n      <td>5</td>\n      <td>GREAT recipe!  I used fat free cream cheese, p...</td>\n      <td>2008-06-02 18:24:08</td>\n      <td>2008-06-02 18:24:08</td>\n      <td>Jalapeno Pepper Poppers</td>\n      <td>1545</td>\n      <td>...</td>\n      <td>4.9</td>\n      <td>23.7</td>\n      <td>172.5</td>\n      <td>3.2</td>\n      <td>0.6</td>\n      <td>0.9</td>\n      <td>4.3</td>\n      <td>24.0</td>\n      <td>None</td>\n      <td>[In a mixing bowl, combine cheeses, bacon and ...</td>\n    </tr>\n  </tbody>\n</table>\n<p>5 rows × 35 columns</p>\n</div>"
     },
     "execution_count": 13,
     "metadata": {},
     "output_type": "execute_result"
    }
   ],
   "source": [
    "data = pd.merge(reviews_df, recipes_df, on='RecipeId')\n",
    "\n",
    "\n",
    "# print the merged dataframe\n",
    "data.head()"
   ],
   "metadata": {
    "collapsed": false
   }
  },
  {
   "cell_type": "code",
   "execution_count": 19,
   "outputs": [
    {
     "data": {
      "text/plain": "   RecipeId  AuthorId_y  Rating  Calories  ReviewCount\n0       992        1545       5     111.4         15.0\n1       992        1545       4     111.4         15.0\n2      4384        1920       4       4.6          3.0\n3      4384        1920       5       4.6          3.0\n4      4523        1932       2     420.7         10.0",
      "text/html": "<div>\n<style scoped>\n    .dataframe tbody tr th:only-of-type {\n        vertical-align: middle;\n    }\n\n    .dataframe tbody tr th {\n        vertical-align: top;\n    }\n\n    .dataframe thead th {\n        text-align: right;\n    }\n</style>\n<table border=\"1\" class=\"dataframe\">\n  <thead>\n    <tr style=\"text-align: right;\">\n      <th></th>\n      <th>RecipeId</th>\n      <th>AuthorId_y</th>\n      <th>Rating</th>\n      <th>Calories</th>\n      <th>ReviewCount</th>\n    </tr>\n  </thead>\n  <tbody>\n    <tr>\n      <th>0</th>\n      <td>992</td>\n      <td>1545</td>\n      <td>5</td>\n      <td>111.4</td>\n      <td>15.0</td>\n    </tr>\n    <tr>\n      <th>1</th>\n      <td>992</td>\n      <td>1545</td>\n      <td>4</td>\n      <td>111.4</td>\n      <td>15.0</td>\n    </tr>\n    <tr>\n      <th>2</th>\n      <td>4384</td>\n      <td>1920</td>\n      <td>4</td>\n      <td>4.6</td>\n      <td>3.0</td>\n    </tr>\n    <tr>\n      <th>3</th>\n      <td>4384</td>\n      <td>1920</td>\n      <td>5</td>\n      <td>4.6</td>\n      <td>3.0</td>\n    </tr>\n    <tr>\n      <th>4</th>\n      <td>4523</td>\n      <td>1932</td>\n      <td>2</td>\n      <td>420.7</td>\n      <td>10.0</td>\n    </tr>\n  </tbody>\n</table>\n</div>"
     },
     "execution_count": 19,
     "metadata": {},
     "output_type": "execute_result"
    }
   ],
   "source": [
    "df = data[[\"RecipeId\", \"AuthorId_y\", \"Rating\", \"Calories\", \"ReviewCount\"]]\n",
    "\n",
    "# remove duplicates without considering the first column\n",
    "df = df[~df.iloc[:, 1:].duplicated(keep='first', subset=df.columns[1:])]\n",
    "\n",
    "# reset the index and drop the original index column\n",
    "df = df.reset_index(drop=True)\n",
    "\n",
    "# print the updated dataframe\n",
    "df.head()"
   ],
   "metadata": {
    "collapsed": false
   }
  }
 ],
 "metadata": {
  "kernelspec": {
   "display_name": "Python 3",
   "language": "python",
   "name": "python3"
  },
  "language_info": {
   "codemirror_mode": {
    "name": "ipython",
    "version": 2
   },
   "file_extension": ".py",
   "mimetype": "text/x-python",
   "name": "python",
   "nbconvert_exporter": "python",
   "pygments_lexer": "ipython2",
   "version": "2.7.6"
  }
 },
 "nbformat": 4,
 "nbformat_minor": 0
}
